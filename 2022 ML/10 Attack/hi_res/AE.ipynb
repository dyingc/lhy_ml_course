{
 "cells": [
  {
   "cell_type": "code",
   "execution_count": 6,
   "id": "6af4ba59-e796-4ddc-911d-ef9fcc3982a8",
   "metadata": {},
   "outputs": [],
   "source": [
    "import torch\n",
    "import torch.nn as nn\n",
    "import torchvision.models as models\n",
    "from torchvision import datasets\n",
    "import torchvision.transforms as transforms\n",
    "from PIL import Image\n",
    "from typing import List, Dict\n",
    "import copy\n",
    "\n",
    "supported_models = ['resnet18', 'resnet50', 'resnet101', 'vgg16_bn', 'vgg19_bn', 'inception_v3']"
   ]
  },
  {
   "cell_type": "markdown",
   "id": "318d00f9-0402-416c-b959-791c2ec611b4",
   "metadata": {},
   "source": [
    "Model list is available [here](https://github.com/osmr/imgclsmob/blob/master/pytorch/pytorchcv/model_provider.py)."
   ]
  },
  {
   "cell_type": "code",
   "execution_count": 5,
   "id": "f3fe3ca9-1305-4851-b617-94320e714c96",
   "metadata": {},
   "outputs": [
    {
     "ename": "AttributeError",
     "evalue": "type object 'ImageNet' has no attribute 'classes'",
     "output_type": "error",
     "traceback": [
      "\u001b[0;31m---------------------------------------------------------------------------\u001b[0m",
      "\u001b[0;31mAttributeError\u001b[0m                            Traceback (most recent call last)",
      "Cell \u001b[0;32mIn[5], line 3\u001b[0m\n\u001b[1;32m      1\u001b[0m \u001b[38;5;28;01mfrom\u001b[39;00m \u001b[38;5;21;01mtorchvision\u001b[39;00m\u001b[38;5;21;01m.\u001b[39;00m\u001b[38;5;21;01mdatasets\u001b[39;00m \u001b[38;5;28;01mimport\u001b[39;00m ImageNet\n\u001b[0;32m----> 3\u001b[0m class_labels \u001b[38;5;241m=\u001b[39m \u001b[43mImageNet\u001b[49m\u001b[38;5;241;43m.\u001b[39;49m\u001b[43mclasses\u001b[49m\n",
      "\u001b[0;31mAttributeError\u001b[0m: type object 'ImageNet' has no attribute 'classes'"
     ]
    }
   ],
   "source": [
    "from torchvision.datasets import ImageNet\n",
    "\n",
    "class_labels = datasets.imagenet."
   ]
  },
  {
   "cell_type": "code",
   "execution_count": 3,
   "id": "74747cc5-d358-4081-901e-55ae14276625",
   "metadata": {},
   "outputs": [],
   "source": [
    "class ModelFactory():\n",
    "    _instance = None\n",
    "    _supported_models = []\n",
    "    _models = {}\n",
    "    _class_labels = None\n",
    "\n",
    "    def __new__(self, supported_models, *args, **kwargs):\n",
    "        if not self._instance:\n",
    "            self._instance = super(ModelFactory, self).__new__(self, *args, **kwargs)\n",
    "            self._supported_models = copy.deepcopy(supported_models)\n",
    "            self._models = dict()\n",
    "            self._class_labels = ImageNet.classes\n",
    "        return self._instance\n",
    "            \n",
    "    def get_supported_models(self)->List[str]:\n",
    "        return self.supported_models\n",
    "\n",
    "    def get_model(self, model_name):\n",
    "        m = model_name.lower()\n",
    "        # import ipdb; ipdb.set_trace()\n",
    "        try:\n",
    "            self._supported_models[self._supported_models.index(m)]\n",
    "        except ValueError as ve:\n",
    "            raise ValueError(f\"Not supported model: {model_name} - {ve.args}\")\n",
    "        model = self._models.get(m)\n",
    "        if not model: # model is not yet initialized\n",
    "            model = models.get_model_builder(m)()\n",
    "            slef._models[m] = model\n",
    "        return self._models.get(m)\n",
    "\n",
    "    def get_class_labels(self):\n",
    "        return self._class_labels"
   ]
  },
  {
   "cell_type": "code",
   "execution_count": 4,
   "id": "126e5ea5-2838-4b22-92e1-55d6c42b5794",
   "metadata": {},
   "outputs": [
    {
     "ename": "AttributeError",
     "evalue": "type object 'ImageNet' has no attribute 'classes'",
     "output_type": "error",
     "traceback": [
      "\u001b[0;31m---------------------------------------------------------------------------\u001b[0m",
      "\u001b[0;31mAttributeError\u001b[0m                            Traceback (most recent call last)",
      "Cell \u001b[0;32mIn[4], line 1\u001b[0m\n\u001b[0;32m----> 1\u001b[0m aaa \u001b[38;5;241m=\u001b[39m \u001b[43mModelFactory\u001b[49m\u001b[43m(\u001b[49m\u001b[43msupported_models\u001b[49m\u001b[43m)\u001b[49m\n",
      "Cell \u001b[0;32mIn[3], line 12\u001b[0m, in \u001b[0;36mModelFactory.__new__\u001b[0;34m(self, supported_models, *args, **kwargs)\u001b[0m\n\u001b[1;32m     10\u001b[0m     \u001b[38;5;28mself\u001b[39m\u001b[38;5;241m.\u001b[39m_supported_models \u001b[38;5;241m=\u001b[39m copy\u001b[38;5;241m.\u001b[39mdeepcopy(supported_models)\n\u001b[1;32m     11\u001b[0m     \u001b[38;5;28mself\u001b[39m\u001b[38;5;241m.\u001b[39m_models \u001b[38;5;241m=\u001b[39m \u001b[38;5;28mdict\u001b[39m()\n\u001b[0;32m---> 12\u001b[0m     \u001b[38;5;28mself\u001b[39m\u001b[38;5;241m.\u001b[39m_class_labels \u001b[38;5;241m=\u001b[39m \u001b[43mImageNet\u001b[49m\u001b[38;5;241;43m.\u001b[39;49m\u001b[43mclasses\u001b[49m\n\u001b[1;32m     13\u001b[0m \u001b[38;5;28;01mreturn\u001b[39;00m \u001b[38;5;28mself\u001b[39m\u001b[38;5;241m.\u001b[39m_instance\n",
      "\u001b[0;31mAttributeError\u001b[0m: type object 'ImageNet' has no attribute 'classes'"
     ]
    }
   ],
   "source": [
    "aaa = ModelFactory(supported_models)"
   ]
  },
  {
   "cell_type": "code",
   "execution_count": 32,
   "id": "c77f5e2b-b0da-49a0-a80d-e17330c48f3c",
   "metadata": {},
   "outputs": [
    {
     "ename": "ValueError",
     "evalue": "Not supported model: bbb - (\"'bbb' is not in list\",)",
     "output_type": "error",
     "traceback": [
      "\u001b[0;31m---------------------------------------------------------------------------\u001b[0m",
      "\u001b[0;31mValueError\u001b[0m                                Traceback (most recent call last)",
      "Cell \u001b[0;32mIn[30], line 20\u001b[0m, in \u001b[0;36mModelFactory.get_model\u001b[0;34m(self, model_name)\u001b[0m\n\u001b[1;32m     19\u001b[0m \u001b[38;5;28;01mtry\u001b[39;00m:\n\u001b[0;32m---> 20\u001b[0m     idx \u001b[38;5;241m=\u001b[39m \u001b[38;5;28;43mself\u001b[39;49m\u001b[38;5;241;43m.\u001b[39;49m\u001b[43m_supported_models\u001b[49m\u001b[38;5;241;43m.\u001b[39;49m\u001b[43mindex\u001b[49m\u001b[43m(\u001b[49m\u001b[43mm\u001b[49m\u001b[43m)\u001b[49m\n\u001b[1;32m     21\u001b[0m \u001b[38;5;28;01mexcept\u001b[39;00m \u001b[38;5;167;01mValueError\u001b[39;00m \u001b[38;5;28;01mas\u001b[39;00m ve:\n",
      "\u001b[0;31mValueError\u001b[0m: 'bbb' is not in list",
      "\nDuring handling of the above exception, another exception occurred:\n",
      "\u001b[0;31mValueError\u001b[0m                                Traceback (most recent call last)",
      "Cell \u001b[0;32mIn[32], line 1\u001b[0m\n\u001b[0;32m----> 1\u001b[0m \u001b[43maaa\u001b[49m\u001b[38;5;241;43m.\u001b[39;49m\u001b[43mget_model\u001b[49m\u001b[43m(\u001b[49m\u001b[38;5;124;43m'\u001b[39;49m\u001b[38;5;124;43mbbb\u001b[39;49m\u001b[38;5;124;43m'\u001b[39;49m\u001b[43m)\u001b[49m\n",
      "Cell \u001b[0;32mIn[30], line 22\u001b[0m, in \u001b[0;36mModelFactory.get_model\u001b[0;34m(self, model_name)\u001b[0m\n\u001b[1;32m     20\u001b[0m     idx \u001b[38;5;241m=\u001b[39m \u001b[38;5;28mself\u001b[39m\u001b[38;5;241m.\u001b[39m_supported_models\u001b[38;5;241m.\u001b[39mindex(m)\n\u001b[1;32m     21\u001b[0m \u001b[38;5;28;01mexcept\u001b[39;00m \u001b[38;5;167;01mValueError\u001b[39;00m \u001b[38;5;28;01mas\u001b[39;00m ve:\n\u001b[0;32m---> 22\u001b[0m     \u001b[38;5;28;01mraise\u001b[39;00m \u001b[38;5;167;01mValueError\u001b[39;00m(\u001b[38;5;124mf\u001b[39m\u001b[38;5;124m\"\u001b[39m\u001b[38;5;124mNot supported model: \u001b[39m\u001b[38;5;132;01m{\u001b[39;00mmodel_name\u001b[38;5;132;01m}\u001b[39;00m\u001b[38;5;124m - \u001b[39m\u001b[38;5;132;01m{\u001b[39;00mve\u001b[38;5;241m.\u001b[39margs\u001b[38;5;132;01m}\u001b[39;00m\u001b[38;5;124m\"\u001b[39m)\n\u001b[1;32m     23\u001b[0m model \u001b[38;5;241m=\u001b[39m \u001b[38;5;28mself\u001b[39m\u001b[38;5;241m.\u001b[39m_models\u001b[38;5;241m.\u001b[39mget(model_name\u001b[38;5;241m.\u001b[39mlower())\n",
      "\u001b[0;31mValueError\u001b[0m: Not supported model: bbb - (\"'bbb' is not in list\",)"
     ]
    }
   ],
   "source": [
    "aaa.get_model('bbb')"
   ]
  },
  {
   "cell_type": "code",
   "execution_count": 5,
   "id": "fd29b9d1-1364-4eaa-983e-faeb8dacd9d2",
   "metadata": {},
   "outputs": [
    {
     "data": {
      "text/plain": [
       "['resnet18', 'resnet50', 'resnet101', 'vgg16_bn', 'vgg19_bn', 'inception_v3']"
      ]
     },
     "execution_count": 5,
     "metadata": {},
     "output_type": "execute_result"
    }
   ],
   "source": [
    "aaa.get_supported_models()"
   ]
  },
  {
   "cell_type": "code",
   "execution_count": 6,
   "id": "dceec9b7-1d40-4c71-b25d-cbb4932fb64d",
   "metadata": {},
   "outputs": [],
   "source": [
    "supported_models.append('aaa')"
   ]
  },
  {
   "cell_type": "code",
   "execution_count": 7,
   "id": "35cf631e-66e9-4953-8235-d9d750bc5b59",
   "metadata": {},
   "outputs": [
    {
     "data": {
      "text/plain": [
       "['resnet18',\n",
       " 'resnet50',\n",
       " 'resnet101',\n",
       " 'vgg16_bn',\n",
       " 'vgg19_bn',\n",
       " 'inception_v3',\n",
       " 'aaa']"
      ]
     },
     "execution_count": 7,
     "metadata": {},
     "output_type": "execute_result"
    }
   ],
   "source": [
    "supported_models"
   ]
  },
  {
   "cell_type": "code",
   "execution_count": 8,
   "id": "a15d93f2-8649-4ec7-b26c-0b36e7b4518b",
   "metadata": {},
   "outputs": [
    {
     "data": {
      "text/plain": [
       "['resnet18', 'resnet50', 'resnet101', 'vgg16_bn', 'vgg19_bn', 'inception_v3']"
      ]
     },
     "execution_count": 8,
     "metadata": {},
     "output_type": "execute_result"
    }
   ],
   "source": [
    "aaa.get_supported_models()"
   ]
  }
 ],
 "metadata": {
  "kernelspec": {
   "display_name": "Lhy Courses",
   "language": "python",
   "name": "lhy_courses"
  },
  "language_info": {
   "codemirror_mode": {
    "name": "ipython",
    "version": 3
   },
   "file_extension": ".py",
   "mimetype": "text/x-python",
   "name": "python",
   "nbconvert_exporter": "python",
   "pygments_lexer": "ipython3",
   "version": "3.10.10"
  }
 },
 "nbformat": 4,
 "nbformat_minor": 5
}
