{
 "cells": [
  {
   "cell_type": "markdown",
   "metadata": {
    "id": "Q-n2e0BkhEKS"
   },
   "source": [
    "# **Homework 10 - Adversarial Attack**\n",
    "\n",
    "Slides: https://reurl.cc/7DDxnD\n",
    "\n",
    "Contact: ntu-ml-2022spring-ta@googlegroups.com\n"
   ]
  },
  {
   "cell_type": "markdown",
   "metadata": {
    "id": "9RX7iRXrhMA_"
   },
   "source": [
    "## Enviroment & Download\n",
    "\n",
    "We make use of [pytorchcv](https://pypi.org/project/pytorchcv/) to obtain CIFAR-10 pretrained model, so we need to set up the enviroment first. We also need to download the data (200 images) which we want to attack."
   ]
  },
  {
   "cell_type": "markdown",
   "metadata": {
    "colab": {
     "base_uri": "https://localhost:8080/"
    },
    "id": "d4Lw7urignqP",
    "outputId": "338b4e04-9d1d-47c4-d8e5-81eb45705c5c"
   },
   "source": [
    "```bash\n",
    "# set up environment\n",
    "import sys\n",
    "!{sys.executable} -m pip install pytorchcv\n",
    "!{sys.executable} -m pip install imgaug\n",
    "\n",
    "# download\n",
    "!wget https://github.com/DanielLin94144/ML-attack-dataset/files/8167812/data.zip\n",
    "\n",
    "# unzip\n",
    "!unzip ./data.zip\n",
    "!rm ./data.zip\n",
    "```"
   ]
  },
  {
   "cell_type": "code",
   "execution_count": 1,
   "metadata": {
    "id": "5inbFx_alYjw"
   },
   "outputs": [
    {
     "ename": "RuntimeError",
     "evalue": "cuda is NOT available!!",
     "output_type": "error",
     "traceback": [
      "\u001b[0;31m---------------------------------------------------------------------------\u001b[0m",
      "\u001b[0;31mRuntimeError\u001b[0m                              Traceback (most recent call last)",
      "Cell \u001b[0;32mIn[1], line 8\u001b[0m\n\u001b[1;32m      6\u001b[0m device \u001b[38;5;241m=\u001b[39m torch\u001b[38;5;241m.\u001b[39mdevice(\u001b[38;5;124m'\u001b[39m\u001b[38;5;124mcuda\u001b[39m\u001b[38;5;124m'\u001b[39m \u001b[38;5;28;01mif\u001b[39;00m torch\u001b[38;5;241m.\u001b[39mcuda\u001b[38;5;241m.\u001b[39mis_available() \u001b[38;5;28;01melse\u001b[39;00m \u001b[38;5;124m'\u001b[39m\u001b[38;5;124mcpu\u001b[39m\u001b[38;5;124m'\u001b[39m)\n\u001b[1;32m      7\u001b[0m \u001b[38;5;28;01mif\u001b[39;00m \u001b[38;5;28mstr\u001b[39m(device) \u001b[38;5;241m==\u001b[39m \u001b[38;5;124m'\u001b[39m\u001b[38;5;124mcpu\u001b[39m\u001b[38;5;124m'\u001b[39m:\n\u001b[0;32m----> 8\u001b[0m     \u001b[38;5;28;01mraise\u001b[39;00m \u001b[38;5;167;01mRuntimeError\u001b[39;00m(\u001b[38;5;124m\"\u001b[39m\u001b[38;5;124mcuda is NOT available!!\u001b[39m\u001b[38;5;124m\"\u001b[39m)\n\u001b[1;32m      9\u001b[0m batch_size \u001b[38;5;241m=\u001b[39m \u001b[38;5;241m8\u001b[39m\n",
      "\u001b[0;31mRuntimeError\u001b[0m: cuda is NOT available!!"
     ]
    }
   ],
   "source": [
    "from typing import List\n",
    "\n",
    "import torch\n",
    "import torch.nn as nn\n",
    "\n",
    "device = torch.device('cuda' if torch.cuda.is_available() else 'cpu')\n",
    "if str(device) == 'cpu':\n",
    "    raise RuntimeError(\"cuda is NOT available!!\")\n",
    "batch_size = 8"
   ]
  },
  {
   "cell_type": "markdown",
   "metadata": {
    "id": "hkQQf0l1hbBs"
   },
   "source": [
    "## Global Settings \n",
    "#### **[NOTE]**: Don't change the settings here, or your generated image might not meet the constraint.\n",
    "* $\\epsilon$ is fixed to be 8. But on **Data section**, we will first apply transforms on raw pixel value (0-255 scale) **by ToTensor (to 0-1 scale)** and then **Normalize (subtract mean divide std)**. $\\epsilon$ should be set to $\\frac{8}{255 * std}$ during attack.\n",
    "\n",
    "* Explaination (optional)\n",
    "    * Denote the first pixel of original image as $p$, and the first pixel of adversarial image as $a$.\n",
    "    * The $\\epsilon$ constraints tell us $\\left| p-a \\right| <= 8$.\n",
    "    * ToTensor() can be seen as a function where $T(x) = x/255$.\n",
    "    * Normalize() can be seen as a function where $N(x) = (x-mean)/std$ where $mean$ and $std$ are constants.\n",
    "    * After applying ToTensor() and Normalize() on $p$ and $a$, the constraint becomes $\\left| N(T(p))-N(T(a)) \\right| = \\left| \\frac{\\frac{p}{255}-mean}{std}-\\frac{\\frac{a}{255}-mean}{std} \\right| = \\frac{1}{255 * std} \\left| p-a \\right| <= \\frac{8}{255 * std}.$\n",
    "    * So, we should set $\\epsilon$ to be $\\frac{8}{255 * std}$ after ToTensor() and Normalize()."
   ]
  },
  {
   "cell_type": "code",
   "execution_count": null,
   "metadata": {
    "id": "ACghc_tsg2vE"
   },
   "outputs": [],
   "source": [
    "# the mean and std are the calculated statistics from cifar_10 dataset\n",
    "cifar_10_mean = (0.491, 0.482, 0.447) # mean for the three channels of cifar_10 images\n",
    "cifar_10_std = (0.202, 0.199, 0.201) # std for the three channels of cifar_10 images\n",
    "\n",
    "# convert mean and std to 3-dimensional tensors for future operations\n",
    "mean = torch.tensor(cifar_10_mean).to(device).view(3, 1, 1)\n",
    "std = torch.tensor(cifar_10_std).to(device).view(3, 1, 1)\n",
    "\n",
    "epsilon = 8/255/std"
   ]
  },
  {
   "cell_type": "code",
   "execution_count": null,
   "metadata": {
    "id": "uO8f0NmtlM63"
   },
   "outputs": [],
   "source": [
    "root = './data' # directory for storing benign images\n",
    "# benign images: images which do not contain adversarial perturbations\n",
    "# adversarial images: images which include adversarial perturbations"
   ]
  },
  {
   "cell_type": "markdown",
   "metadata": {
    "id": "lhBJBAlKherZ"
   },
   "source": [
    "## Data\n",
    "\n",
    "Construct dataset and dataloader from root directory. Note that we store the filename of each image for future usage."
   ]
  },
  {
   "cell_type": "code",
   "execution_count": null,
   "metadata": {
    "colab": {
     "base_uri": "https://localhost:8080/"
    },
    "id": "VXpRAHz0hkDt",
    "outputId": "7821e9f3-aa8b-4eed-ce82-fbece547da74"
   },
   "outputs": [],
   "source": [
    "import os\n",
    "import glob\n",
    "import shutil\n",
    "import numpy as np\n",
    "from PIL import Image\n",
    "from torchvision.transforms import transforms\n",
    "from torch.utils.data import Dataset, DataLoader\n",
    "\n",
    "transform = transforms.Compose([\n",
    "    transforms.ToTensor(),  # Convert the image to a PyTorch tensor\n",
    "    transforms.Normalize(cifar_10_mean, cifar_10_std)  # Normalize the image using predefined means and standard deviations\n",
    "])\n",
    "\n",
    "class AdvDataset(Dataset):\n",
    "    def __init__(self, data_dir, transform):\n",
    "        self.images = []  # List to store image paths\n",
    "        self.labels = []  # List to store corresponding labels\n",
    "        self.names = []  # List to store the relative paths of images\n",
    "        \n",
    "        '''\n",
    "        data_dir\n",
    "        ├── class_dir\n",
    "        │   ├── class1.png\n",
    "        │   ├── ...\n",
    "        │   ├── class20.png\n",
    "        '''\n",
    "        \n",
    "        # Iterate over class directories in the given data directory\n",
    "        for i, class_dir in enumerate(sorted(glob.glob(f'{data_dir}/*'))):\n",
    "            images = sorted(glob.glob(f'{class_dir}/*'))  # Get a list of image paths in each class directory\n",
    "            self.images += images  # Append the image paths to the list\n",
    "            self.labels += ([i] * len(images))  # Assign labels to the images based on the class index\n",
    "            self.names += [os.path.relpath(imgs, data_dir) for imgs in images]  # Get the relative paths of the images\n",
    "        \n",
    "        self.transform = transform  # Transformation to be applied to each image\n",
    "    \n",
    "    def __getitem__(self, idx):\n",
    "        image = self.transform(Image.open(self.images[idx]))  # Load and transform the image at the given index\n",
    "        label = self.labels[idx]  # Get the corresponding label\n",
    "        return image, label  # Return the transformed image and its label\n",
    "    \n",
    "    def __getname__(self):\n",
    "        return self.names  # Return the list of image names\n",
    "    \n",
    "    def __len__(self):\n",
    "        return len(self.images)  # Return the total number of images in the dataset\n",
    "\n",
    "adv_set = AdvDataset(root, transform=transform)  # Create an instance of the AdvDataset\n",
    "adv_names = adv_set.__getname__()  # Get the list of image names from the dataset\n",
    "adv_loader = DataLoader(adv_set, batch_size=batch_size, shuffle=False)  # Create a data loader for the dataset\n",
    "\n",
    "print(f'number of images = {adv_set.__len__()}')  # Print the total number of images in the dataset"
   ]
  },
  {
   "cell_type": "markdown",
   "metadata": {
    "id": "LnszlTsYrTQZ"
   },
   "source": [
    "## Utils -- Benign Images Evaluation"
   ]
  },
  {
   "cell_type": "code",
   "execution_count": null,
   "metadata": {
    "id": "5c_zZLzkrceE"
   },
   "outputs": [],
   "source": [
    "# to evaluate the performance of the model on benign images\n",
    "def epoch_benign(model, loader, loss_fn):\n",
    "    model.eval()  # Set the model to evaluation mode\n",
    "    train_acc, train_loss = 0.0, 0.0  # Initialize accuracy and loss variables\n",
    "\n",
    "    # Iterate over the data loader\n",
    "    for x, y in loader:  # x: image, y: label\n",
    "        x, y = x.to(device), y.to(device)  # Move the input data to the appropriate device (e.g., GPU)\n",
    "        yp = model(x)  # Forward pass through the model to get predictions\n",
    "        loss = loss_fn(yp, y)  # Compute the loss between predictions and ground truth labels\n",
    "        train_acc += (yp.argmax(dim=1) == y).sum().item()  # Count correct predictions and add them to the accuracy\n",
    "        train_loss += loss.item() * x.shape[0]  # Multiply the loss by batch size and add it to the total loss\n",
    "\n",
    "    # Calculate the average accuracy and loss per sample\n",
    "    return train_acc / len(loader.dataset), train_loss / len(loader.dataset)"
   ]
  },
  {
   "cell_type": "markdown",
   "metadata": {
    "id": "_YJxK7YehqQy"
   },
   "source": [
    "## Utils -- Attack Algorithm"
   ]
  },
  {
   "cell_type": "code",
   "execution_count": null,
   "metadata": {
    "id": "F_1wKfKyhrQW"
   },
   "outputs": [],
   "source": [
    "# perform fgsm attack\n",
    "def fgsm(model, x, y, loss_fn, epsilon=epsilon):\n",
    "    x_adv = x.detach().clone() # initialize x_adv as original benign image x, by creating a clone of the input tensor 'x' and detach it from the computation graph\n",
    "    x_adv.requires_grad = True # need to obtain gradient of x_adv, thus set required grad\n",
    "    loss = loss_fn(model(x_adv), y) # calculate loss\n",
    "    loss.backward() # calculate gradient\n",
    "    # fgsm: use gradient ascent on x_adv to maximize loss\n",
    "    grad = x_adv.grad.detach() # Compute gradients of the loss with respect to 'x_adv'\n",
    "    x_adv = x_adv + epsilon * grad.sign() # Create an adversarial example by adding a perturbation in the direction of the sign of the gradients\n",
    "    return x_adv\n",
    "\n",
    "# num_iter can be decided by yourself\n",
    "def ifgsm(model, x, y, loss_fn, epsilon:float=epsilon, num_iter:int=20):\n",
    "    if num_iter < 1:\n",
    "        raise RuntimeError(f\"num_iter, {num_iter}, needs to be greater than 0!\") \n",
    "    alpha = epsilon / num_iter\n",
    "    x_adv = x\n",
    "    # write a loop of num_iter to represent the iterative times\n",
    "    for i in range(num_iter):\n",
    "        # x_adv = fgsm(model, x_adv, y, loss_fn, alpha) # call fgsm with (epsilon = alpha) to obtain new x_adv\n",
    "        x_adv = x_adv.detach().clone()\n",
    "        x_adv.requires_grad = True # need to obtain gradient of x_adv, thus set required grad\n",
    "        loss = loss_fn(model(x_adv), y) # calculate loss\n",
    "        loss.backward() # calculate gradient\n",
    "        # fgsm: use gradient ascent on x_adv to maximize loss\n",
    "        grad = x_adv.grad.detach()\n",
    "        x_adv = x_adv + alpha * grad.sign()\n",
    "\n",
    "        x_adv = torch.max(torch.min(x_adv, x+epsilon), x-epsilon) # clip new x_adv back to [x-epsilon, x+epsilon]\n",
    "    return x_adv\n",
    "\n",
    "def mifgsm(model, x, y, loss_fn, epsilon=epsilon, num_iter=20, decay=1.0):\n",
    "    if num_iter < 1:\n",
    "        raise RuntimeError(f\"num_iter, {num_iter}, needs to be greater than 0!\") \n",
    "    alpha = epsilon / num_iter\n",
    "    x_adv = x\n",
    "    # initialze momentum tensor\n",
    "    momentum = torch.zeros_like(x).detach().to(device)\n",
    "    # write a loop of num_iter to represent the iterative times\n",
    "    for i in range(num_iter):\n",
    "        x_adv = x_adv.detach().clone()\n",
    "        x_adv.requires_grad = True # need to obtain gradient of x_adv, thus set required grad\n",
    "        loss = loss_fn(model(x_adv), y) # calculate loss\n",
    "        loss.backward() # calculate gradient\n",
    "        # TODO: Momentum calculation\n",
    "        # import ipdb; ipdb.set_trace()\n",
    "        grad = x_adv.grad.detach()\n",
    "        momentum = decay * momentum + grad / torch.norm(grad, p=1)\n",
    "        # x_adv = x_adv + alpha * grad.sign()\n",
    "        x_adv = x_adv + alpha * momentum.sign()\n",
    "        x_adv = torch.max(torch.min(x_adv, x+epsilon), x-epsilon) # clip new x_adv back to [x-epsilon, x+epsilon]\n",
    "    return x_adv"
   ]
  },
  {
   "cell_type": "markdown",
   "metadata": {
    "id": "fYCEQwmcrmH6"
   },
   "source": [
    "## Utils -- Attack\n",
    "* Recall\n",
    "  * ToTensor() can be seen as a function where $T(x) = x/255$.\n",
    "  * Normalize() can be seen as a function where $N(x) = (x-mean)/std$ where $mean$ and $std$ are constants.\n",
    "\n",
    "* Inverse function\n",
    "  * Inverse Normalize() can be seen as a function where $N^{-1}(x) = x*std+mean$ where $mean$ and $std$ are constants.\n",
    "  * Inverse ToTensor() can be seen as a function where $T^{-1}(x) = x*255$.\n",
    "\n",
    "* Special Noted\n",
    "  * ToTensor() will also convert the image from shape (height, width, channel) to shape (channel, height, width), so we also need to transpose the shape back to original shape.\n",
    "  * Since our dataloader samples a batch of data, what we need here is to transpose **(batch_size, channel, height, width)** back to **(batch_size, height, width, channel)** using np.transpose."
   ]
  },
  {
   "cell_type": "code",
   "execution_count": null,
   "metadata": {
    "id": "w5X_9x-7ro_w"
   },
   "outputs": [],
   "source": [
    "# perform adversarial attack and generate adversarial examples\n",
    "def gen_adv_examples(model, loader, attack, loss_fn):\n",
    "    model.eval()\n",
    "    adv_names = []\n",
    "    train_acc, train_loss = 0.0, 0.0\n",
    "    for i, (x, y) in enumerate(loader):\n",
    "        x, y = x.to(device), y.to(device)\n",
    "        x_adv = attack(model, x, y, loss_fn) # obtain adversarial examples\n",
    "        yp = model(x_adv)\n",
    "        loss = loss_fn(yp, y)\n",
    "        train_acc += (yp.argmax(dim=1) == y).sum().item()\n",
    "        train_loss += loss.item() * x.shape[0]\n",
    "        # store adversarial examples\n",
    "        adv_ex = ((x_adv) * std + mean).clamp(0, 1) # to 0-1 scale\n",
    "        adv_ex = (adv_ex * 255).clamp(0, 255) # 0-255 scale\n",
    "        adv_ex = adv_ex.detach().cpu().data.numpy().round() # round to remove decimal part\n",
    "        adv_ex = adv_ex.transpose((0, 2, 3, 1)) # transpose (bs, C, H, W) back to (bs, H, W, C)\n",
    "        '''\n",
    "        If it's not the first iteration, np.r_ is used to concatenate the new adversarial \n",
    "        examples (adv_ex) with the existing ones (adv_examples) along the first axis (bs). \n",
    "        This results in adv_examples containing all the adversarial examples generated so far.\n",
    "        '''\n",
    "        adv_examples = adv_ex if i == 0 else np.r_[adv_examples, adv_ex]\n",
    "    return adv_examples, train_acc / len(loader.dataset), train_loss / len(loader.dataset)\n",
    "\n",
    "# create directory which stores adversarial examples\n",
    "def create_dir(data_dir, adv_dir, adv_examples, adv_names):\n",
    "    if os.path.exists(adv_dir) is not True:  # Check if the adversarial directory already exists\n",
    "        shutil.rmtree(adv_dir)\n",
    "        _ = shutil.copytree(data_dir, adv_dir)  # Create a new directory by copying the original data (benign copies) directory\n",
    "\n",
    "    for example, name in zip(adv_examples, adv_names):\n",
    "        im = Image.fromarray(example.astype(np.uint8))  # Convert the example array to an image with unsigned integer pixel values\n",
    "        im.save(os.path.join(adv_dir, name))  # Save the image in the adversarial directory with the given name"
   ]
  },
  {
   "cell_type": "markdown",
   "metadata": {
    "id": "r_pMkmPytX3k"
   },
   "source": [
    "## Model / Loss Function\n",
    "\n",
    "Model list is available [here](https://github.com/osmr/imgclsmob/blob/master/pytorch/pytorchcv/model_provider.py). Please select models which has _cifar10 suffix. Some of the models cannot be accessed/loaded. You can safely skip them since TA's model will not use those kinds of models.\n",
    "\n",
    "Here's a list and they each might have different variances:\n",
    "```\n",
    "densenet\n",
    "diapreresnet\n",
    "diaresnet\n",
    "fractalnet\n",
    "msdnet\n",
    "nin\n",
    "preresnet\n",
    "pyramidnet\n",
    "resdropresnet\n",
    "resnet\n",
    "resnext\n",
    "rir\n",
    "ror3\n",
    "sepreresnet\n",
    "seresnet\n",
    "shakedropresnet\n",
    "shakeshakeresnet\n",
    "wrn\n",
    "xdensenet\n",
    "```"
   ]
  },
  {
   "cell_type": "code",
   "execution_count": null,
   "metadata": {},
   "outputs": [],
   "source": [
    "def get_model_list(model_list_file:str)->List[str]:\n",
    "    model_list = []\n",
    "    with open(model_list_file, 'r') as f:\n",
    "        model_name = f.readline().strip()\n",
    "        while len(model_name)>0:\n",
    "            model_list.append(model_name)\n",
    "            model_name = f.readline().strip()\n",
    "    return model_list"
   ]
  },
  {
   "cell_type": "markdown",
   "metadata": {},
   "source": [
    "### Choose effective models"
   ]
  },
  {
   "cell_type": "markdown",
   "metadata": {},
   "source": [
    "#### Load and inference for each model"
   ]
  },
  {
   "cell_type": "code",
   "execution_count": null,
   "metadata": {
    "colab": {
     "base_uri": "https://localhost:8080/"
    },
    "id": "jwto8xbPtYzQ",
    "outputId": "757c344a-be19-4192-ae2b-9ebdcd0b5e33"
   },
   "outputs": [],
   "source": [
    "from pytorchcv.model_provider import get_model as ptcv_get_model\n",
    "import time\n",
    "\n",
    "tic0 = time.time()\n",
    "model_list = get_model_list('cifar10_models.lst')\n",
    "models = []\n",
    "print(f\"Loading all {len(model_list)} models.\")\n",
    "tic = time.time()\n",
    "for model_name in model_list:\n",
    "    model = ptcv_get_model(model_name, pretrained=True).to(device)\n",
    "    models.append(model)\n",
    "toc = time.time()\n",
    "print(f\"Total time for model loading: {toc-tic:.2f} seconds.\")\n",
    "loss_fn = nn.CrossEntropyLoss()\n",
    "\n",
    "model_test_result = {}"
   ]
  },
  {
   "cell_type": "code",
   "execution_count": null,
   "metadata": {
    "colab": {
     "base_uri": "https://localhost:8080/"
    },
    "id": "jwto8xbPtYzQ",
    "outputId": "757c344a-be19-4192-ae2b-9ebdcd0b5e33"
   },
   "outputs": [],
   "source": [
    "print(f\"Inference for each model\")\n",
    "for model, model_name in zip(models, model_list):\n",
    "    tic = time.time()\n",
    "    model_test_result[f'{model_name}'] = list(epoch_benign(model, adv_loader, loss_fn)) + [model_name]\n",
    "    toc = time.time()\n",
    "    print(f\"Time consumed: {toc-tic:.2f} seconds, for inference by model: {model_name}\")\n",
    "\n",
    "toc0 = time.time()\n",
    "print(f\"Total time consumed: {toc0-tic0:.1f} seconds.\")"
   ]
  },
  {
   "cell_type": "markdown",
   "metadata": {},
   "source": [
    "#### Final chosen models: `chosen_model_list`"
   ]
  },
  {
   "cell_type": "code",
   "execution_count": null,
   "metadata": {},
   "outputs": [],
   "source": [
    "sorted_model_test_result = sorted(model_test_result.items(), key=lambda x: x[1][1], reverse=False)\n",
    "sorted_model_test_result = [{k: v} for k, v in sorted_model_test_result]\n",
    "print(sorted_model_test_result)\n",
    "NUM_CHOSEN_MODELS = len(sorted_model_test_result) // 4 # len(sorted_model_test_result)\n",
    "chosen_model_names = [next(iter(c.keys())) for c in sorted_model_test_result[:NUM_CHOSEN_MODELS]]\n",
    "print(chosen_model_names)\n",
    "chosen_model_list = [ptcv_get_model(m, pretrained=True).to(device) for m in chosen_model_names]\n",
    "print([type(m) for m in chosen_model_list])"
   ]
  },
  {
   "cell_type": "markdown",
   "metadata": {
    "id": "uslb7GPchtMI"
   },
   "source": [
    "## FGSM"
   ]
  },
  {
   "cell_type": "code",
   "execution_count": null,
   "metadata": {
    "colab": {
     "base_uri": "https://localhost:8080/"
    },
    "id": "wQwPTVUIhuTS",
    "outputId": "0cc23ace-b799-4025-9883-af7d04c545b1"
   },
   "outputs": [],
   "source": [
    "%%time\n",
    "fgsm_result = {}\n",
    "for model, model_name in zip(chosen_model_list, chosen_model_names):\n",
    "    adv_examples, fgsm_acc, fgsm_loss = gen_adv_examples(model, adv_loader, fgsm, loss_fn)\n",
    "    print(f'fgsm_acc = {fgsm_acc:.2%}, fgsm_loss = {fgsm_loss:.5f} for model: {model_name}')\n",
    "    fgsm_result[model] = [fgsm_acc, fgsm_loss, model_name]\n",
    "\n",
    "sorted_fgsm_result = sorted(fgsm_result.items(), key=lambda x: x[1][0], reverse=False)"
   ]
  },
  {
   "cell_type": "code",
   "execution_count": null,
   "metadata": {},
   "outputs": [],
   "source": [
    "print([{m[1][-1]:m[1][:-1]} for m in sorted_fgsm_result])"
   ]
  },
  {
   "cell_type": "code",
   "execution_count": null,
   "metadata": {
    "colab": {
     "base_uri": "https://localhost:8080/"
    },
    "id": "wQwPTVUIhuTS",
    "outputId": "0cc23ace-b799-4025-9883-af7d04c545b1"
   },
   "outputs": [],
   "source": [
    "%%time\n",
    "model = sorted_fgsm_result[0][0]\n",
    "model_name = sorted_fgsm_result[0][1][-1]\n",
    "adv_examples, fgsm_acc, fgsm_loss = gen_adv_examples(model, adv_loader, fgsm, loss_fn)\n",
    "print(f'fgsm_acc = {fgsm_acc:.2%}, fgsm_loss = {fgsm_loss:.5f}, model = {model_name} ({type(model)})')\n",
    "\n",
    "create_dir(root, 'fgsm', adv_examples, adv_names)"
   ]
  },
  {
   "cell_type": "markdown",
   "metadata": {
    "id": "WXw6p0A6shZm"
   },
   "source": [
    "## I-FGSM"
   ]
  },
  {
   "cell_type": "code",
   "execution_count": null,
   "metadata": {
    "colab": {
     "base_uri": "https://localhost:8080/"
    },
    "id": "wQwPTVUIhuTS",
    "outputId": "0cc23ace-b799-4025-9883-af7d04c545b1"
   },
   "outputs": [],
   "source": [
    "%%time\n",
    "ifgsm_result = {}\n",
    "for model, model_name in zip(chosen_model_list, chosen_model_names):\n",
    "    tic = time.time()\n",
    "    adv_examples, ifgsm_acc, ifgsm_loss = gen_adv_examples(model, adv_loader, ifgsm, loss_fn)\n",
    "    toc = time.time()\n",
    "    print(f'Time consumed: {toc-tic:.1f} seconds, ifgsm_acc = {ifgsm_acc:.2%}, ifgsm_loss = {ifgsm_loss:.5f} for model: {model_name}')\n",
    "    ifgsm_result[model] = [ifgsm_acc, ifgsm_loss, model_name]\n",
    "\n",
    "sorted_ifgsm_result = sorted(ifgsm_result.items(), key=lambda x: x[1][0], reverse=False)"
   ]
  },
  {
   "cell_type": "code",
   "execution_count": null,
   "metadata": {},
   "outputs": [],
   "source": [
    "print([{m[1][-1]:m[1][:-1]} for m in sorted_ifgsm_result])"
   ]
  },
  {
   "cell_type": "code",
   "execution_count": null,
   "metadata": {
    "colab": {
     "base_uri": "https://localhost:8080/"
    },
    "id": "wQwPTVUIhuTS",
    "outputId": "0cc23ace-b799-4025-9883-af7d04c545b1"
   },
   "outputs": [],
   "source": [
    "%%time\n",
    "model = sorted_ifgsm_result[0][0]\n",
    "model_name = sorted_ifgsm_result[0][1][-1]\n",
    "adv_examples, ifgsm_acc, ifgsm_loss = gen_adv_examples(model, adv_loader, ifgsm, loss_fn)\n",
    "print(f'ifgsm_acc = {ifgsm_acc:.2%}, ifgsm_loss = {ifgsm_loss:.5f}, model = {model_name} ({type(model)})')\n",
    "\n",
    "create_dir(root, 'ifgsm', adv_examples, adv_names)"
   ]
  },
  {
   "cell_type": "markdown",
   "metadata": {
    "id": "WXw6p0A6shZm"
   },
   "source": [
    "## MI-FGSM"
   ]
  },
  {
   "cell_type": "code",
   "execution_count": null,
   "metadata": {
    "colab": {
     "base_uri": "https://localhost:8080/"
    },
    "id": "wQwPTVUIhuTS",
    "outputId": "0cc23ace-b799-4025-9883-af7d04c545b1"
   },
   "outputs": [],
   "source": [
    "%%time\n",
    "mifgsm_result = {}\n",
    "for model, model_name in zip(chosen_model_list, chosen_model_names):\n",
    "    tic = time.time()\n",
    "    adv_examples, mifgsm_acc, mifgsm_loss = gen_adv_examples(model, adv_loader, mifgsm, loss_fn) # Use mifgsm as the algorithm\n",
    "    toc = time.time()\n",
    "    print(f'Time consumed: {toc-tic:.1f} seconds, mifgsm_acc = {mifgsm_acc:.2%}, mifgsm_loss = {mifgsm_loss:.5f} for model: {model_name}')\n",
    "    mifgsm_result[model] = [mifgsm_acc, mifgsm_loss, model_name]\n",
    "\n",
    "sorted_mifgsm_result = sorted(mifgsm_result.items(), key=lambda x: x[1][0], reverse=False)"
   ]
  },
  {
   "cell_type": "code",
   "execution_count": null,
   "metadata": {},
   "outputs": [],
   "source": [
    "print([{m[1][-1]:m[1][:-1]} for m in sorted_mifgsm_result])"
   ]
  },
  {
   "cell_type": "code",
   "execution_count": null,
   "metadata": {
    "colab": {
     "base_uri": "https://localhost:8080/"
    },
    "id": "wQwPTVUIhuTS",
    "outputId": "0cc23ace-b799-4025-9883-af7d04c545b1"
   },
   "outputs": [],
   "source": [
    "%%time\n",
    "model = sorted_mifgsm_result[0][0]\n",
    "model_name = sorted_mifgsm_result[0][1][-1]\n",
    "adv_examples, mifgsm_acc, mifgsm_loss = gen_adv_examples(model, adv_loader, mifgsm, loss_fn)\n",
    "print(f'mifgsm_acc = {mifgsm_acc:.2%}, mifgsm_loss = {mifgsm_loss:.5f}, model = {model_name} ({type(model)})')\n",
    "\n",
    "create_dir(root, 'mifgsm', adv_examples, adv_names)"
   ]
  },
  {
   "cell_type": "markdown",
   "metadata": {
    "id": "WLZLbebigCA2"
   },
   "source": [
    "## Example of Ensemble Attack\n",
    "* Ensemble multiple models as your proxy model to increase the black-box transferability ([paper](https://arxiv.org/abs/1611.02770))"
   ]
  },
  {
   "cell_type": "code",
   "execution_count": null,
   "metadata": {
    "id": "gJcKiQNUgnPQ"
   },
   "outputs": [],
   "source": [
    "class ensembleNet(nn.Module):\n",
    "    def __init__(self, chosen_model_list:List[nn.Module]):\n",
    "        super().__init__()\n",
    "        self.models = nn.ModuleList(chosen_model_list)\n",
    "        self.softmax = nn.Softmax(dim=1) # .to(device)\n",
    "    def forward(self, x):\n",
    "        ensemble_logits = torch.zeros_like(self.models[0](x)).detach() # .to(device)\n",
    "        for i, m in enumerate(self.models):\n",
    "            # import ipdb; ipdb.set_trace()\n",
    "            ensemble_logits = ensemble_logits + m(x)\n",
    "        # TODO: sum up logits from multiple models\n",
    "        return self.softmax(ensemble_logits / len(self.models))"
   ]
  },
  {
   "cell_type": "markdown",
   "metadata": {
    "id": "yjfJwJKeeaR2"
   },
   "source": [
    "* Construct your ensemble model"
   ]
  },
  {
   "cell_type": "code",
   "execution_count": null,
   "metadata": {},
   "outputs": [],
   "source": [
    "num_chosen = 5\n",
    "chosen_model_list = [m[0] for m in sorted_ifgsm_result[:num_chosen]]\n",
    "chosen_model_names = [m[1][-1] for m in sorted_ifgsm_result[:num_chosen]]"
   ]
  },
  {
   "cell_type": "code",
   "execution_count": null,
   "metadata": {
    "id": "stYFytogeIzI"
   },
   "outputs": [],
   "source": [
    "ensemble_model = ensembleNet(chosen_model_list).to(device)\n",
    "x = next(iter(adv_loader))[0][0].unsqueeze(0).to(device)\n",
    "ensemble_model(x)"
   ]
  },
  {
   "cell_type": "code",
   "execution_count": null,
   "metadata": {
    "colab": {
     "base_uri": "https://localhost:8080/"
    },
    "id": "fUEsT06Iskt2",
    "outputId": "351a506f-2762-48c9-cad8-9ad54d231a38"
   },
   "outputs": [],
   "source": [
    "%%time\n",
    "adv_examples, ensemble_ifgsm_acc, ensemble_ifgsm_loss = gen_adv_examples(ensemble_model, adv_loader, ifgsm, loss_fn)\n",
    "print(f'ensemble_ifgsm_acc = {ensemble_ifgsm_acc:.2%}, ensemble_ifgsm_loss = {ensemble_ifgsm_loss:.5f}')\n",
    "\n",
    "create_dir(root, 'ensemble_ifgsm', adv_examples, adv_names)"
   ]
  },
  {
   "cell_type": "markdown",
   "metadata": {
    "id": "DQ-nYkkYexEE"
   },
   "source": [
    "## Compress the images\n",
    "* Submit the .tgz file to [JudgeBoi](https://ml.ee.ntu.edu.tw/hw10/)"
   ]
  },
  {
   "cell_type": "code",
   "execution_count": null,
   "metadata": {
    "colab": {
     "background_save": true
    },
    "id": "ItRo_S0M264N"
   },
   "outputs": [],
   "source": [
    "%%capture\n",
    "%cd fgsm\n",
    "!tar zcvf ../fgsm.tgz *\n",
    "%cd ..\n",
    "\n",
    "%cd ifgsm\n",
    "!tar zcvf ../ifgsm.tgz *\n",
    "%cd ..\n",
    "\n",
    "\n",
    "%cd mifgsm\n",
    "!tar zcvf ../mifgsm.tgz *\n",
    "%cd .."
   ]
  },
  {
   "cell_type": "markdown",
   "metadata": {
    "id": "0FM_S886kFd8"
   },
   "source": [
    "## Visualization"
   ]
  },
  {
   "cell_type": "code",
   "execution_count": null,
   "metadata": {
    "colab": {
     "base_uri": "https://localhost:8080/",
     "height": 735
    },
    "id": "2FCuE2njkH1O",
    "outputId": "01c91960-eeec-4d0e-db2a-69e302c426c6"
   },
   "outputs": [],
   "source": [
    "random_model_idx = torch.randint(low=len(chosen_model_list), high=len(model_list), size=[1]).item()\n",
    "random_model_name = model_list[random_model_idx]\n",
    "random_model = ptcv_get_model(random_model_name, pretrained=True).to(device)\n",
    "print(f\"We randomly picked model: {random_model_name} (seq = {random_model_idx:d})\")\n",
    "\n",
    "import matplotlib.pyplot as plt\n",
    "\n",
    "classes = ['airplane', 'automobile', 'bird', 'cat', 'deer', 'dog', 'frog', 'horse', 'ship', 'truck']\n",
    "\n",
    "attack_name = 'ifgsm' # 'ensemble_ifgsm'\n",
    "chosen_pic_num = torch.randint(low=1, high=20, size=[1]).item()\n",
    "# chosen_pic_num = 2\n",
    "\n",
    "plt.figure(figsize=(10, 20))\n",
    "cnt = 0\n",
    "for i, cls_name in enumerate(classes):\n",
    "    path = f'{cls_name}/{cls_name}{chosen_pic_num}.png'\n",
    "    # benign image\n",
    "    cnt += 1\n",
    "    plt.subplot(len(classes), 4, cnt)\n",
    "    im = Image.open(f'./data/{path}')\n",
    "    logit = random_model(transform(im).unsqueeze(0).to(device))[0]\n",
    "    predict = logit.argmax(-1).item()\n",
    "    prob = logit.softmax(-1)[predict].item()\n",
    "    plt.title(f'benign: {cls_name}{chosen_pic_num}.png\\n{classes[predict]}: {prob:.2%}')\n",
    "    plt.axis('off')\n",
    "    plt.imshow(np.array(im))\n",
    "    # adversarial image\n",
    "    cnt += 1\n",
    "    plt.subplot(len(classes), 4, cnt)\n",
    "    im = Image.open(f'./{attack_name}/{path}')\n",
    "    logit = random_model(transform(im).unsqueeze(0).to(device))[0]\n",
    "    predict = logit.argmax(-1).item()\n",
    "    prob = logit.softmax(-1)[predict].item()\n",
    "    plt.title(f'adversarial: {cls_name}{chosen_pic_num}.png\\n{classes[predict]}: {prob:.2%}')\n",
    "    plt.axis('off')\n",
    "    plt.imshow(np.array(im))\n",
    "plt.tight_layout()\n",
    "plt.show()"
   ]
  },
  {
   "attachments": {
    "0f0ae0ae-1c33-4e44-af05-deac86e69359.png": {
     "image/png": "[encoded data removed]"
    }
   },
   "cell_type": "markdown",
   "metadata": {
    "id": "FUmKa02Vmp29"
   },
   "source": [
    "## Report Question\n",
    "* Make sure you follow below setup: the source model is \"resnet110_cifar10\", applying the vanilla fgsm attack on `dog2.png`. You can find the perturbed image in `fgsm/dog2.png`.\n",
    "\n",
    "![image.png](attachment:0f0ae0ae-1c33-4e44-af05-deac86e69359.png)"
   ]
  },
  {
   "cell_type": "code",
   "execution_count": null,
   "metadata": {
    "colab": {
     "base_uri": "https://localhost:8080/",
     "height": 577
    },
    "id": "8NW8ntCKY3VY",
    "outputId": "66db22c7-a1f8-4430-898d-8f33aa5e22a4"
   },
   "outputs": [],
   "source": [
    "from pytorchcv.model_provider import get_model as ptcv_get_model\n",
    "import os\n",
    "import glob\n",
    "import shutil\n",
    "import numpy as np\n",
    "from PIL import Image\n",
    "from torchvision.transforms import transforms\n",
    "from torch.utils.data import Dataset, DataLoader\n",
    "import matplotlib.pyplot as plt\n",
    "import torch\n",
    "\n",
    "device = 'cuda' if torch.cuda.is_available() else 'cpu'\n",
    "\n",
    "classes = ['airplane', 'automobile', 'bird', 'cat', 'deer', 'dog', 'frog', 'horse', 'ship', 'truck']\n",
    "cifar_10_mean = (0.491, 0.482, 0.447) # mean for the three channels of cifar_10 images\n",
    "cifar_10_std = (0.202, 0.199, 0.201) # std for the three channels of cifar_10 images\n",
    "\n",
    "transform = transforms.Compose([\n",
    "    transforms.ToTensor(),  # Convert the image to a PyTorch tensor\n",
    "    transforms.Normalize(cifar_10_mean, cifar_10_std)  # Normalize the image using predefined means and standard deviations\n",
    "])\n",
    "\n",
    "\n",
    "model_name = \"resnet110_cifar10\"\n",
    "model = ptcv_get_model(model_name, pretrained=True).to(device)\n",
    "\n",
    "# original image\n",
    "path = f'dog/dog2.png' # f'airplane/airplane2.png'\n",
    "im = Image.open(f'./data/{path}')\n",
    "logit = model(transform(im).unsqueeze(0).to(device))[0]\n",
    "predict = logit.argmax(-1).item()\n",
    "prob = logit.softmax(-1)[predict].item()\n",
    "plt.title(f'benign: {path}\\n{classes[predict]}: {prob:.2%}')\n",
    "plt.axis('off')\n",
    "plt.imshow(np.array(im))\n",
    "plt.tight_layout()\n",
    "plt.show()\n",
    "\n",
    "# adversarial image \n",
    "attack_name = 'ensemble_ifgsm'\n",
    "im = Image.open(f'./{attack_name}/{path}')\n",
    "logit = model(transform(im).unsqueeze(0).to(device))[0]\n",
    "predict = logit.argmax(-1).item()\n",
    "prob = logit.softmax(-1)[predict].item()\n",
    "plt.title(f'adversarial: {path}\\n{classes[predict]}: {prob:.2%}')\n",
    "plt.axis('off')\n",
    "plt.imshow(np.array(im))\n",
    "plt.tight_layout()\n",
    "plt.show()\n"
   ]
  },
  {
   "cell_type": "markdown",
   "metadata": {
    "id": "2AQkofrTnePa"
   },
   "source": [
    "## Passive Defense - JPEG compression\n",
    "JPEG compression by imgaug package, compression rate set to 70\n",
    "\n",
    "Reference: https://imgaug.readthedocs.io/en/latest/source/api_augmenters_arithmetic.html#imgaug.augmenters.arithmetic.JpegCompression"
   ]
  },
  {
   "cell_type": "code",
   "execution_count": null,
   "metadata": {
    "id": "sKuQaPp2mz7C"
   },
   "outputs": [],
   "source": [
    "# import imgaug.augmenters as iaa\n",
    "\n",
    "# # pre-process image\n",
    "# x = transforms.ToTensor()(im)*255\n",
    "# x = x.permute(1, 2, 0).numpy()\n",
    "# compressed_x = x.astype(np.uint8)\n",
    "\n",
    "# # TODO: use \"imgaug\" package to perform JPEG compression (compression rate = 70)\n",
    "# # compressed_x = ...\n",
    "\n",
    "# logit = model(transform(compressed_x).unsqueeze(0).to(device))[0]\n",
    "# predict = logit.argmax(-1).item()\n",
    "# prob = logit.softmax(-1)[predict].item()\n",
    "# plt.title(f'JPEG adversarial: dog2.png\\n{classes[predict]}: {prob:.2%}')\n",
    "# plt.axis('off')\n",
    "\n",
    "\n",
    "# plt.imshow(compressed_x)\n",
    "# plt.tight_layout()\n",
    "# plt.show()"
   ]
  }
 ],
 "metadata": {
  "accelerator": "GPU",
  "colab": {
   "collapsed_sections": [],
   "name": "ML2022_hw10.ipynb",
   "provenance": []
  },
  "kernelspec": {
   "display_name": "Lhy Courses",
   "language": "python",
   "name": "lhy_courses"
  },
  "language_info": {
   "codemirror_mode": {
    "name": "ipython",
    "version": 3
   },
   "file_extension": ".py",
   "mimetype": "text/x-python",
   "name": "python",
   "nbconvert_exporter": "python",
   "pygments_lexer": "ipython3",
   "version": "3.10.10"
  }
 },
 "nbformat": 4,
 "nbformat_minor": 4
}
